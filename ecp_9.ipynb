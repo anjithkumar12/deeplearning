{
  "nbformat": 4,
  "nbformat_minor": 0,
  "metadata": {
    "colab": {
      "provenance": [],
      "authorship_tag": "ABX9TyN0drLREabzeiG/qm6RHtgr",
      "include_colab_link": true
    },
    "kernelspec": {
      "name": "python3",
      "display_name": "Python 3"
    },
    "language_info": {
      "name": "python"
    }
  },
  "cells": [
    {
      "cell_type": "markdown",
      "metadata": {
        "id": "view-in-github",
        "colab_type": "text"
      },
      "source": [
        "<a href=\"https://colab.research.google.com/github/anjithkumar12/deeplearning/blob/main/ecp_9.ipynb\" target=\"_parent\"><img src=\"https://colab.research.google.com/assets/colab-badge.svg\" alt=\"Open In Colab\"/></a>"
      ]
    },
    {
      "cell_type": "code",
      "execution_count": 2,
      "metadata": {
        "colab": {
          "base_uri": "https://localhost:8080/"
        },
        "id": "H6chSKPZfvyX",
        "outputId": "4fd921fc-e958-466b-c7c6-bef22f879203"
      },
      "outputs": [
        {
          "output_type": "stream",
          "name": "stdout",
          "text": [
            "Epoch 1/10\n",
            "300/300 - 53s - loss: 0.3519 - accuracy: 0.8938 - val_loss: 0.0696 - val_accuracy: 0.9794 - 53s/epoch - 176ms/step\n",
            "Epoch 2/10\n",
            "300/300 - 45s - loss: 0.1094 - accuracy: 0.9678 - val_loss: 0.0429 - val_accuracy: 0.9862 - 45s/epoch - 151ms/step\n",
            "Epoch 3/10\n",
            "300/300 - 46s - loss: 0.0780 - accuracy: 0.9776 - val_loss: 0.0358 - val_accuracy: 0.9874 - 46s/epoch - 153ms/step\n",
            "Epoch 4/10\n",
            "300/300 - 45s - loss: 0.0635 - accuracy: 0.9806 - val_loss: 0.0332 - val_accuracy: 0.9884 - 45s/epoch - 151ms/step\n",
            "Epoch 5/10\n",
            "300/300 - 45s - loss: 0.0540 - accuracy: 0.9836 - val_loss: 0.0313 - val_accuracy: 0.9891 - 45s/epoch - 150ms/step\n",
            "Epoch 6/10\n",
            "300/300 - 45s - loss: 0.0468 - accuracy: 0.9861 - val_loss: 0.0284 - val_accuracy: 0.9901 - 45s/epoch - 151ms/step\n",
            "Epoch 7/10\n",
            "300/300 - 45s - loss: 0.0416 - accuracy: 0.9874 - val_loss: 0.0255 - val_accuracy: 0.9910 - 45s/epoch - 151ms/step\n",
            "Epoch 8/10\n",
            "300/300 - 45s - loss: 0.0396 - accuracy: 0.9881 - val_loss: 0.0246 - val_accuracy: 0.9913 - 45s/epoch - 151ms/step\n",
            "Epoch 9/10\n",
            "300/300 - 48s - loss: 0.0338 - accuracy: 0.9894 - val_loss: 0.0252 - val_accuracy: 0.9915 - 48s/epoch - 160ms/step\n",
            "Epoch 10/10\n",
            "300/300 - 45s - loss: 0.0307 - accuracy: 0.9908 - val_loss: 0.0245 - val_accuracy: 0.9916 - 45s/epoch - 150ms/step\n",
            "Test accuracy: 99.16%\n"
          ]
        }
      ],
      "source": [
        "import tensorflow as tf\n",
        "from tensorflow.keras.datasets import mnist\n",
        "from tensorflow.keras.models import Sequential\n",
        "from tensorflow.keras.layers import Conv2D, MaxPooling2D, Flatten, Dense, Dropout\n",
        "from tensorflow.keras.utils import to_categorical\n",
        "# Load and preprocess the dataset\n",
        "(x_train, y_train), (x_test, y_test) = mnist.load_data()\n",
        "x_train = x_train.reshape(x_train.shape[0], 28, 28, 1).astype('float32') / 255\n",
        "x_test = x_test.reshape(x_test.shape[0], 28, 28, 1).astype('float32') / 255\n",
        "y_train = to_categorical(y_train, 10)\n",
        "y_test = to_categorical(y_test, 10)\n",
        "# Build the CNN model\n",
        "model = Sequential()\n",
        "model.add(Conv2D(32, kernel_size=(3, 3), activation='relu',\n",
        "input_shape=(28, 28, 1)))\n",
        "model.add(MaxPooling2D(pool_size=(2, 2)))\n",
        "model.add(Conv2D(64, kernel_size=(3, 3), activation='relu'))\n",
        "model.add(MaxPooling2D(pool_size=(2, 2)))\n",
        "model.add(Flatten())\n",
        "model.add(Dense(128, activation='relu'))\n",
        "model.add(Dropout(0.5))\n",
        "model.add(Dense(10, activation='softmax'))\n",
        "# Compile the model\n",
        "model.compile(loss='categorical_crossentropy', optimizer='adam',\n",
        "metrics=['accuracy'])\n",
        "# Train the model\n",
        "model.fit(x_train, y_train, validation_data=(x_test, y_test), epochs=10,\n",
        "batch_size=200, verbose=2)\n",
        "# Evaluate the model\n",
        "test_loss, test_acc = model.evaluate(x_test, y_test, verbose=0)\n",
        "print(f'Test accuracy: {test_acc*100:.2f}%')\n"
      ]
    }
  ]
}