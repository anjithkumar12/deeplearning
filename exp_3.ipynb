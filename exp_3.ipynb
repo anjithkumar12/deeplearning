{
  "nbformat": 4,
  "nbformat_minor": 0,
  "metadata": {
    "colab": {
      "provenance": [],
      "authorship_tag": "ABX9TyPVs13O5cWWrumu+wKSfqLB",
      "include_colab_link": true
    },
    "kernelspec": {
      "name": "python3",
      "display_name": "Python 3"
    },
    "language_info": {
      "name": "python"
    }
  },
  "cells": [
    {
      "cell_type": "markdown",
      "metadata": {
        "id": "view-in-github",
        "colab_type": "text"
      },
      "source": [
        "<a href=\"https://colab.research.google.com/github/anjithkumar12/deeplearning/blob/main/exp_3.ipynb\" target=\"_parent\"><img src=\"https://colab.research.google.com/assets/colab-badge.svg\" alt=\"Open In Colab\"/></a>"
      ]
    },
    {
      "cell_type": "code",
      "execution_count": 1,
      "metadata": {
        "colab": {
          "base_uri": "https://localhost:8080/"
        },
        "id": "uu50v7JUcwoU",
        "outputId": "6a4e9780-295e-46af-9731-da10f7499d82"
      },
      "outputs": [
        {
          "output_type": "stream",
          "name": "stdout",
          "text": [
            "Epoch 1/10\n",
            "20/20 [==============================] - 3s 31ms/step - loss: 0.6941 - accuracy: 0.4781 - val_loss: 0.6731 - val_accuracy: 0.6125\n",
            "Epoch 2/10\n",
            "20/20 [==============================] - 0s 16ms/step - loss: 0.6693 - accuracy: 0.5312 - val_loss: 0.6448 - val_accuracy: 0.6000\n",
            "Epoch 3/10\n",
            "20/20 [==============================] - 0s 9ms/step - loss: 0.6492 - accuracy: 0.5437 - val_loss: 0.6205 - val_accuracy: 0.6250\n",
            "Epoch 4/10\n",
            "20/20 [==============================] - 0s 7ms/step - loss: 0.6296 - accuracy: 0.6000 - val_loss: 0.5996 - val_accuracy: 0.6500\n",
            "Epoch 5/10\n",
            "20/20 [==============================] - 0s 7ms/step - loss: 0.6096 - accuracy: 0.6469 - val_loss: 0.5803 - val_accuracy: 0.6812\n",
            "Epoch 6/10\n",
            "20/20 [==============================] - 0s 11ms/step - loss: 0.5888 - accuracy: 0.7016 - val_loss: 0.5592 - val_accuracy: 0.7188\n",
            "Epoch 7/10\n",
            "20/20 [==============================] - 0s 11ms/step - loss: 0.5672 - accuracy: 0.7422 - val_loss: 0.5369 - val_accuracy: 0.7500\n",
            "Epoch 8/10\n",
            "20/20 [==============================] - 0s 12ms/step - loss: 0.5437 - accuracy: 0.7781 - val_loss: 0.5146 - val_accuracy: 0.8125\n",
            "Epoch 9/10\n",
            "20/20 [==============================] - 0s 11ms/step - loss: 0.5193 - accuracy: 0.8078 - val_loss: 0.4918 - val_accuracy: 0.8562\n",
            "Epoch 10/10\n",
            "20/20 [==============================] - 0s 15ms/step - loss: 0.4939 - accuracy: 0.8266 - val_loss: 0.4683 - val_accuracy: 0.8687\n",
            "7/7 [==============================] - 0s 5ms/step\n",
            "Test accuracy: 0.8300\n"
          ]
        }
      ],
      "source": [
        "import numpy as np\n",
        "import tensorflow as tf\n",
        "from tensorflow.keras.models import Sequential\n",
        "from tensorflow.keras.layers import Dense,Input\n",
        "from sklearn.model_selection import train_test_split\n",
        "from sklearn.metrics import accuracy_score\n",
        "np.random.seed(42)\n",
        "X = np.random.rand(1000, 2)\n",
        "y = (X[:, 0] + X[:, 1] > 1).astype(int)\n",
        "X_train, X_test, y_train, y_test = train_test_split(X, y, test_size=0.2,\n",
        "random_state=42)\n",
        "model = Sequential([Input(shape=(2)),Dense(64, activation='relu'),Dense(1,\n",
        "activation='sigmoid')])\n",
        "model.compile(optimizer='adam',loss='binary_crossentropy',metrics=['accuracy'])\n",
        "model.fit(X_train, y_train, epochs=10, batch_size=32, validation_split=0.2)\n",
        "y_pred = model.predict(X_test)\n",
        "y_pred_binary = (y_pred > 0.5).astype(int)\n",
        "test_accuracy = accuracy_score(y_test, y_pred_binary)\n",
        "print(f\"Test accuracy: {test_accuracy:.4f}\")"
      ]
    }
  ]
}