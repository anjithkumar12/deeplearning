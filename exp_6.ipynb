{
  "nbformat": 4,
  "nbformat_minor": 0,
  "metadata": {
    "colab": {
      "provenance": [],
      "authorship_tag": "ABX9TyPm5bo3xJLi676d8Cvi4Qbf",
      "include_colab_link": true
    },
    "kernelspec": {
      "name": "python3",
      "display_name": "Python 3"
    },
    "language_info": {
      "name": "python"
    }
  },
  "cells": [
    {
      "cell_type": "markdown",
      "metadata": {
        "id": "view-in-github",
        "colab_type": "text"
      },
      "source": [
        "<a href=\"https://colab.research.google.com/github/anjithkumar12/deeplearning/blob/main/exp_6.ipynb\" target=\"_parent\"><img src=\"https://colab.research.google.com/assets/colab-badge.svg\" alt=\"Open In Colab\"/></a>"
      ]
    },
    {
      "cell_type": "code",
      "execution_count": 1,
      "metadata": {
        "colab": {
          "base_uri": "https://localhost:8080/"
        },
        "id": "_yKTAaaWeX0y",
        "outputId": "6974a4e2-a02c-41bf-e644-1e37417367b6"
      },
      "outputs": [
        {
          "output_type": "stream",
          "name": "stdout",
          "text": [
            "Epoch 1/10\n",
            "4/4 [==============================] - 4s 10ms/step - loss: 1.1361\n",
            "Epoch 2/10\n",
            "4/4 [==============================] - 0s 6ms/step - loss: 1.0309\n",
            "Epoch 3/10\n",
            "4/4 [==============================] - 0s 7ms/step - loss: 0.9882\n",
            "Epoch 4/10\n",
            "4/4 [==============================] - 0s 6ms/step - loss: 0.9634\n",
            "Epoch 5/10\n",
            "4/4 [==============================] - 0s 7ms/step - loss: 0.9346\n",
            "Epoch 6/10\n",
            "4/4 [==============================] - 0s 7ms/step - loss: 0.9245\n",
            "Epoch 7/10\n",
            "4/4 [==============================] - 0s 7ms/step - loss: 0.9169\n",
            "Epoch 8/10\n",
            "4/4 [==============================] - 0s 10ms/step - loss: 0.9069\n",
            "Epoch 9/10\n",
            "4/4 [==============================] - 0s 10ms/step - loss: 0.8991\n",
            "Epoch 10/10\n",
            "4/4 [==============================] - 0s 8ms/step - loss: 0.8913\n",
            "1/1 [==============================] - 0s 270ms/step - loss: 0.7071\n"
          ]
        },
        {
          "output_type": "execute_result",
          "data": {
            "text/plain": [
              "0.7070619463920593"
            ]
          },
          "metadata": {},
          "execution_count": 1
        }
      ],
      "source": [
        "import tensorflow as tf\n",
        "from tensorflow import keras\n",
        "input_shape = (10, 1)\n",
        "model = keras.Sequential([\n",
        "    keras.layers.SimpleRNN(32, input_shape=input_shape),\n",
        "    keras.layers.Dense(1)\n",
        "])\n",
        "model.compile(optimizer='adam', loss='mse')\n",
        "import numpy as np\n",
        "\n",
        "X_train = np.random.randn(100, 10, 1)\n",
        "y_train = np.random.randn(100, 1)\n",
        "\n",
        "model.fit(X_train, y_train, epochs=10, batch_size=32)\n",
        "X_test = np.random.randn(10, 10, 1)\n",
        "y_test = np.random.randn(10, 1)\n",
        "\n",
        "model.evaluate(X_test, y_test)\n"
      ]
    }
  ]
}